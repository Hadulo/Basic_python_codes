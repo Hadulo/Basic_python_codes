{
 "cells": [
  {
   "cell_type": "markdown",
   "id": "894bb296-d55b-46c0-bb55-e164f9650f28",
   "metadata": {},
   "source": [
    "# QUIZ ONE DSA1080 ANDY HADULO"
   ]
  },
  {
   "cell_type": "code",
   "execution_count": 2,
   "id": "2dd43a93-2831-4261-bdcb-460f73e6709c",
   "metadata": {},
   "outputs": [
    {
     "name": "stdout",
     "output_type": "stream",
     "text": [
      "10\n",
      "Number is even\n"
     ]
    }
   ],
   "source": [
    "# 1.Odd and even checker\n",
    "num = int (input(\"Input number to be checked\")) #prompting user to input a number\n",
    "print (num)\n",
    "if (num %2) == 0: # Checking if it is divisible by two\n",
    "    print (\"Number is even\")\n",
    "else: #incase the number is not even.\n",
    "    print (\"Number is odd\")\n",
    "    "
   ]
  },
  {
   "cell_type": "code",
   "execution_count": 3,
   "id": "b68d2f15-0bec-45e5-a404-957d92d1fb4d",
   "metadata": {},
   "outputs": [
    {
     "name": "stdout",
     "output_type": "stream",
     "text": [
      "The largest number is: 47\n"
     ]
    }
   ],
   "source": [
    "# 2. Looking for the largest number in a list\n",
    "def largest_number (numbers): #defining the a function largest_number\n",
    "    if not numbers: # If the list is empty\n",
    "        return None # return None if the list is empty\n",
    "    largest = numbers[0]# we assume that the largest number if the first number\n",
    "    for number in numbers:\n",
    "        if number > largest : #checks if the number in the list is bigger than the current\n",
    "            largest = number # updates the largest number if a bigger number is found.\n",
    "    return largest\n",
    "numbers = [1,7,8,5,20,4,47]\n",
    "print (\"The largest number is:\",largest_number (numbers))"
   ]
  },
  {
   "cell_type": "code",
   "execution_count": 8,
   "id": "55829862-a98d-463d-a442-b184f41228c0",
   "metadata": {
    "scrolled": true
   },
   "outputs": [
    {
     "name": "stdout",
     "output_type": "stream",
     "text": [
      "The sum of all number from 1 to 10 is :55\n"
     ]
    }
   ],
   "source": [
    "# 3. Sum of numbers in a range\n",
    "n= int(input(\"Enter the number:\")) # Tell the user to input a number \n",
    "total = 0 \n",
    "current_number = 1\n",
    "while current_number <= n: # run a while loop to iterate until current number is eaqual to the number inputed\n",
    "    total +=current_number #updates value of total by adding current_number to the total\n",
    "    current_number += 1 #value of the total current_number will increase by one in each iteration until value is equal to inputed value \n",
    "   \n",
    "result = (total)\n",
    "print (f\"The sum of all number from 1 to {n} is :{result}\") #displays the result\n",
    "    "
   ]
  },
  {
   "cell_type": "code",
   "execution_count": 9,
   "id": "4561623c",
   "metadata": {},
   "outputs": [
    {
     "name": "stdout",
     "output_type": "stream",
     "text": [
      "   1   2   3   4   5   6   7   8   9  10\n",
      "   2   4   6   8  10  12  14  16  18  20\n",
      "   3   6   9  12  15  18  21  24  27  30\n",
      "   4   8  12  16  20  24  28  32  36  40\n",
      "   5  10  15  20  25  30  35  40  45  50\n",
      "   6  12  18  24  30  36  42  48  54  60\n",
      "   7  14  21  28  35  42  49  56  63  70\n",
      "   8  16  24  32  40  48  56  64  72  80\n",
      "   9  18  27  36  45  54  63  72  81  90\n",
      "  10  20  30  40  50  60  70  80  90 100\n"
     ]
    }
   ],
   "source": [
    "# 4. Multiplication table for 1-10\n",
    "def multiplication_table():\n",
    "    for i in range(1,11):# this is for the rows 1-10\n",
    "        for j in range(1,11): # for the column 1-10\n",
    "            product = i * j\n",
    "            print (f\"{product:4}\", end=\"\") # give and output with fixed width 4 to ensure proper outline\n",
    "        print() # to have spaces in between the lines\n",
    "\n",
    "multiplication_table()\n"
   ]
  },
  {
   "cell_type": "code",
   "execution_count": 26,
   "id": "964e4b06",
   "metadata": {},
   "outputs": [
    {
     "name": "stdout",
     "output_type": "stream",
     "text": [
      "The factorial of 5 is 120.\n"
     ]
    }
   ],
   "source": [
    "# 5. Factorial finder\n",
    "def factorial (n): #define a function n\n",
    "    if n < 0: # to handle if the input of negative integer\n",
    "        raise ValueError(\"Input must be a positive integer\")\n",
    "    result = 1 \n",
    "    i = 1\n",
    "    while i <= n: \n",
    "        result *= i #multiply each of the reasult buy until we reach n\n",
    "        i+=1 # keeps adding one to i in each of the iterations \n",
    "    return result \n",
    "    \n",
    "num=int(input(\"Enter a positive number\")) # prompt user to enter a number\n",
    "print(f\"The factorial of {num} is {factorial(num)}.\") #print the result"
   ]
  },
  {
   "cell_type": "code",
   "execution_count": 28,
   "id": "6e200ca6",
   "metadata": {},
   "outputs": [
    {
     "name": "stdout",
     "output_type": "stream",
     "text": [
      "The number of vowels in my name is Andy is:4\n"
     ]
    }
   ],
   "source": [
    "# 6. Count the number of vowels in a string\n",
    "def count_vowels (s): #define a function\n",
    "    vowels = \"AEIOUaeiou\" #initialize the vowels in upper and lower cases\n",
    "    count = 0  # initialize count to 0 to count the number of vowels in a string\n",
    "    for char in s: #iterate throught the characters in s \n",
    "        if char in vowels: # check if character is a vowel by checking it in the 'vowel' string\n",
    "            count += 1 # if the character is a vowel increase count by one\n",
    "    return count # after iterating through entire string counter returns total count\n",
    "\n",
    "input_string = input(\"enter a string:\")\n",
    "print (f\"The number of vowels in {input_string} is:{count_vowels(input_string)}\")"
   ]
  },
  {
   "cell_type": "code",
   "execution_count": 39,
   "id": "75a0df6d",
   "metadata": {},
   "outputs": [
    {
     "name": "stdout",
     "output_type": "stream",
     "text": [
      "'A man a plan a canal Panama' is a palindrome.\n"
     ]
    }
   ],
   "source": [
    "# 7. Checking for a palidrome\n",
    "def is_palindrome(s):\n",
    "    # Remove spaces and convert to lowercase for a case-insensitive comparison\n",
    "    cleaned_string = ''.join(s.split()).lower()\n",
    "    # Compare the string with its reverse\n",
    "    return cleaned_string == cleaned_string[::-1]\n",
    "\n",
    "str_1 = input(\"Enter a string: \") # Promt a value to be entered.\n",
    "if is_palindrome(str_1):\n",
    "    print(f\"'{str_1}' is a palindrome.\")\n",
    "else:\n",
    "    print(f\"'{str_1}' is not a palindrome.\")"
   ]
  },
  {
   "cell_type": "code",
   "execution_count": 87,
   "id": "6275da1f",
   "metadata": {},
   "outputs": [
    {
     "name": "stdout",
     "output_type": "stream",
     "text": [
      "777 is  not a prime number\n"
     ]
    }
   ],
   "source": [
    "# 8. Prime number checker\n",
    "def prime(number):\n",
    "    if number == 1: #check if number is greater than one\n",
    "        return False\n",
    "    elif number  == 2: # if number is 2 it is automatically prime\n",
    "           return True # print prime if number is two\n",
    "    else:\n",
    "        for x in range(2,number):\n",
    "            if number % x == 0:\n",
    "                return False\n",
    "        return True\n",
    "e = int(input(\"Enter value to check\"))\n",
    "if prime(e):\n",
    "     print (f\"{e} is a prime number\")\n",
    "else:\n",
    "     print(f\"{e} is  not a prime number\")\n",
    "\n",
    "\n"
   ]
  },
  {
   "cell_type": "code",
   "execution_count": null,
   "id": "54b13672",
   "metadata": {},
   "outputs": [],
   "source": []
  },
  {
   "cell_type": "code",
   "execution_count": 54,
   "id": "fe9408d3",
   "metadata": {},
   "outputs": [
    {
     "name": "stdout",
     "output_type": "stream",
     "text": [
      "30.00 Celsius is equal to 86.00 Fahrenheit\n"
     ]
    }
   ],
   "source": [
    "#9. Temperature converter.\n",
    "c= float(input(\"Enter your temperature in celsius\")) #Prompt user to enter value in celsius\n",
    "f= c*9/5 + 32 #using the formular\n",
    "print(f\"{c:.2f} Celsius is equal to {f:.2f} Fahrenheit\") #using .2f to get displayed value in 2 decimal places."
   ]
  },
  {
   "cell_type": "code",
   "execution_count": 55,
   "id": "54e9bfb1",
   "metadata": {},
   "outputs": [
    {
     "name": "stdout",
     "output_type": "stream",
     "text": [
      "Your original list: [1, 2, 3, 3, 4, 5, 5, 6, 7, 8, 9, 9, 10]\n",
      "Your list without duplicates: [1, 2, 3, 4, 5, 6, 7, 8, 9, 10]\n"
     ]
    }
   ],
   "source": [
    "# 10. Remove duplicates from string\n",
    "def remove_duplicated(list): #define a function\n",
    "    unique = [] #have an empty list for unique values\n",
    "    for value in list:\n",
    "        if value not in unique: # if the values are not in the unique list, add them\n",
    "            unique.append(value)\n",
    "    return unique # returns the unique list after iteration of the values in the imputed list\n",
    "z= [1,2,3,3,4,5,5,6,7,8,9,9,10] \n",
    "ans = remove_duplicated(z)\n",
    "print(f\"Your original list: {z}\")\n",
    "print(f\"Your list without duplicates: {ans}\")"
   ]
  }
 ],
 "metadata": {
  "kernelspec": {
   "display_name": "Python 3 (ipykernel)",
   "language": "python",
   "name": "python3"
  },
  "language_info": {
   "codemirror_mode": {
    "name": "ipython",
    "version": 3
   },
   "file_extension": ".py",
   "mimetype": "text/x-python",
   "name": "python",
   "nbconvert_exporter": "python",
   "pygments_lexer": "ipython3",
   "version": "3.12.0"
  }
 },
 "nbformat": 4,
 "nbformat_minor": 5
}
